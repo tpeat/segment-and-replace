{
 "cells": [
  {
   "cell_type": "code",
   "execution_count": null,
   "id": "444bb076",
   "metadata": {},
   "outputs": [
    {
     "name": "stderr",
     "output_type": "stream",
     "text": [
      "/home/hice1/tpeat3/.conda/envs/cs7643-a2/lib/python3.9/site-packages/tqdm/auto.py:21: TqdmWarning: IProgress not found. Please update jupyter and ipywidgets. See https://ipywidgets.readthedocs.io/en/stable/user_install.html\n",
      "  from .autonotebook import tqdm as notebook_tqdm\n",
      "The cache for model files in Transformers v4.22.0 has been updated. Migrating your old cache. This is a one-time only operation. You can interrupt this and resume the migration later on by calling `transformers.utils.move_cache()`.\n",
      "0it [00:00, ?it/s]\n",
      "model_index.json: 100%|██████████| 159/159 [00:00<00:00, 50.9kB/s]\n",
      "diffusion_pytorch_model.safetensors not found\n",
      "Fetching 4 files:   0%|          | 0/4 [00:00<?, ?it/s]\n",
      "config.json: 100%|██████████| 900/900 [00:00<00:00, 324kB/s]\n",
      "Fetching 4 files:  25%|██▌       | 1/4 [00:00<00:00,  5.82it/s]\n",
      "scheduler_config.json: 100%|██████████| 211/211 [00:00<00:00, 64.7kB/s]\n",
      "\n",
      "diffusion_pytorch_model.bin:   0%|          | 0.00/263M [00:00<?, ?B/s]\u001b[A\n",
      "diffusion_pytorch_model.bin:   4%|▍         | 10.5M/263M [00:00<00:04, 56.8MB/s]\u001b[A\n",
      "diffusion_pytorch_model.bin:   8%|▊         | 21.0M/263M [00:00<00:03, 70.7MB/s]\u001b[A\n",
      "diffusion_pytorch_model.bin:  12%|█▏        | 31.5M/263M [00:00<00:03, 58.8MB/s]\u001b[A\n",
      "diffusion_pytorch_model.bin:  16%|█▌        | 41.9M/263M [00:00<00:04, 50.7MB/s]\u001b[A\n",
      "diffusion_pytorch_model.bin:  24%|██▍       | 62.9M/263M [00:01<00:03, 53.7MB/s]\u001b[A\n",
      "diffusion_pytorch_model.bin:  28%|██▊       | 73.4M/263M [00:01<00:03, 57.1MB/s]\u001b[A\n",
      "diffusion_pytorch_model.bin:  36%|███▌      | 94.4M/263M [00:01<00:02, 59.6MB/s]\u001b[A\n",
      "diffusion_pytorch_model.bin:  40%|███▉      | 105M/263M [00:01<00:02, 66.4MB/s] \u001b[A\n",
      "diffusion_pytorch_model.bin:  44%|████▍     | 115M/263M [00:01<00:02, 57.5MB/s]\u001b[A\n",
      "diffusion_pytorch_model.bin:  48%|████▊     | 126M/263M [00:02<00:02, 48.3MB/s]\u001b[A\n",
      "diffusion_pytorch_model.bin:  52%|█████▏    | 136M/263M [00:02<00:02, 47.4MB/s]\u001b[A\n",
      "diffusion_pytorch_model.bin:  56%|█████▌    | 147M/263M [00:02<00:02, 54.6MB/s]\u001b[A\n",
      "diffusion_pytorch_model.bin:  64%|██████▍   | 168M/263M [00:03<00:01, 52.1MB/s]\u001b[A\n",
      "diffusion_pytorch_model.bin:  68%|██████▊   | 178M/263M [00:03<00:01, 45.7MB/s]\u001b[A\n",
      "diffusion_pytorch_model.bin:  76%|███████▌  | 199M/263M [00:03<00:01, 46.3MB/s]\u001b[A\n",
      "diffusion_pytorch_model.bin:  84%|████████▍ | 220M/263M [00:04<00:00, 58.6MB/s]\u001b[A\n",
      "diffusion_pytorch_model.bin:  92%|█████████▏| 241M/263M [00:04<00:00, 59.2MB/s]\u001b[A\n",
      "diffusion_pytorch_model.bin:  96%|█████████▌| 252M/263M [00:04<00:00, 49.0MB/s]\u001b[A\n",
      "diffusion_pytorch_model.bin: 100%|██████████| 263M/263M [00:04<00:00, 54.1MB/s]\u001b[A\n",
      "Fetching 4 files: 100%|██████████| 4/4 [00:07<00:00,  1.79s/it]\n",
      "Loading pipeline components...: 100%|██████████| 2/2 [00:02<00:00,  1.25s/it]\n",
      "  0%|          | 0/2000 [00:00<?, ?it/s]/home/hice1/tpeat3/.conda/envs/cs7643-a2/lib/python3.9/site-packages/diffusers/models/downsampling.py:245: UserWarning: To copy construct from a tensor, it is recommended to use sourceTensor.clone().detach() or sourceTensor.clone().detach().requires_grad_(True), rather than torch.tensor(sourceTensor).\n",
      "  torch.tensor(kernel, device=hidden_states.device),\n",
      "/home/hice1/tpeat3/.conda/envs/cs7643-a2/lib/python3.9/site-packages/diffusers/models/upsampling.py:313: UserWarning: To copy construct from a tensor, it is recommended to use sourceTensor.clone().detach() or sourceTensor.clone().detach().requires_grad_(True), rather than torch.tensor(sourceTensor).\n",
      "  torch.tensor(kernel, device=hidden_states.device),\n",
      " 42%|████▏     | 830/2000 [3:31:13<4:57:09, 15.24s/it]"
     ]
    }
   ],
   "source": [
    "from diffusers import DiffusionPipeline\n",
    "\n",
    "model_id = \"google/ncsnpp-celebahq-256\"\n",
    "\n",
    "# load model and scheduler\n",
    "sde_ve = DiffusionPipeline.from_pretrained(model_id)\n",
    "\n",
    "# run pipeline in inference (sample random noise and denoise)\n",
    "image = sde_ve()[\"sample\"]\n",
    "\n",
    "\n",
    "# save image\n",
    "image[0].save(\"sde_ve_generated_image.png\")"
   ]
  },
  {
   "cell_type": "code",
   "execution_count": null,
   "id": "ea9c7d36",
   "metadata": {},
   "outputs": [],
   "source": []
  }
 ],
 "metadata": {
  "kernelspec": {
   "display_name": "torch",
   "language": "python",
   "name": "cs7643-a2"
  },
  "language_info": {
   "codemirror_mode": {
    "name": "ipython",
    "version": 3
   },
   "file_extension": ".py",
   "mimetype": "text/x-python",
   "name": "python",
   "nbconvert_exporter": "python",
   "pygments_lexer": "ipython3",
   "version": "3.9.18"
  }
 },
 "nbformat": 4,
 "nbformat_minor": 5
}

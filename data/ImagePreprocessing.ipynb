{
 "cells": [
  {
   "cell_type": "markdown",
   "id": "896dc61c",
   "metadata": {},
   "source": [
    "# Messi Image Preprocessing Notebook\n",
    "\n",
    "Here is a Notebook that runs facial recognition on our raw messi image dataset in order to remove images without Messi's actual face in them."
   ]
  },
  {
   "cell_type": "code",
   "execution_count": 1,
   "id": "2d9f4554",
   "metadata": {},
   "outputs": [],
   "source": [
    "import sys\n",
    "sys.path.append(\"/home/hice1/afitton3/.conda/envs/torch-env/lib/python3.9/site-packages\")\n",
    "import cv2\n",
    "from matplotlib import pyplot as plt\n",
    "import os\n",
    "import math"
   ]
  },
  {
   "cell_type": "code",
   "execution_count": 2,
   "id": "a1dfc073",
   "metadata": {},
   "outputs": [
    {
     "name": "stdout",
     "output_type": "stream",
     "text": [
      "i: 0\n",
      "i: 10\n",
      "i: 20\n",
      "i: 30\n",
      "i: 40\n",
      "i: 50\n",
      "i: 60\n",
      "i: 70\n",
      "i: 80\n",
      "i: 90\n",
      "i: 100\n",
      "i: 110\n",
      "i: 120\n",
      "i: 130\n",
      "i: 140\n",
      "i: 150\n",
      "i: 160\n",
      "i: 170\n",
      "i: 180\n",
      "i: 190\n",
      "i: 200\n",
      "i: 210\n"
     ]
    }
   ],
   "source": [
    "from os import listdir\n",
    "from os.path import isfile, join\n",
    "import shutil\n",
    "\n",
    "def get_files(mypath):\n",
    "    onlyfiles = [join(mypath, f) for f in listdir(mypath) if isfile(join(mypath, f))]\n",
    "    return onlyfiles\n",
    "\n",
    "allFiles = get_files(os.getcwd() + '/assets/Messi/')\n",
    "destFolder = os.getcwd() + '/assets/Messi_Filtered'\n",
    "face_cascade = cv2.CascadeClassifier(cv2.data.haarcascades + 'haarcascade_frontalface_default.xml')\n",
    "interval = 10\n",
    "\n",
    "for i in range(0, len(allFiles), interval):\n",
    "    end = min(i + interval, len(allFiles))\n",
    "    files = allFiles[i: end]\n",
    "    lImgs = [cv2.cvtColor(cv2.imread(path), cv2.COLOR_BGR2RGB) for path in files]\n",
    "    for j in range(len(lImgs)):\n",
    "        gray = cv2.cvtColor(lImgs[j], cv2.COLOR_BGR2GRAY)\n",
    "        faces = face_cascade.detectMultiScale(gray, scaleFactor=1.1, minNeighbors=5, minSize=(30, 30))\n",
    "        if len(faces) > 0:\n",
    "            shutil.copy(files[j], destFolder)\n",
    "    print(\"i: \" + str(i))\n",
    "        "
   ]
  }
 ],
 "metadata": {
  "kernelspec": {
   "display_name": "Python 3",
   "language": "python",
   "name": "python3"
  },
  "language_info": {
   "codemirror_mode": {
    "name": "ipython",
    "version": 3
   },
   "file_extension": ".py",
   "mimetype": "text/x-python",
   "name": "python",
   "nbconvert_exporter": "python",
   "pygments_lexer": "ipython3",
   "version": "3.8.8"
  }
 },
 "nbformat": 4,
 "nbformat_minor": 5
}
